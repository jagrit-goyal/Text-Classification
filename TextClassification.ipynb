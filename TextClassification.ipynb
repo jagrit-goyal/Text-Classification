{
  "cells": [
    {
      "cell_type": "code",
      "execution_count": 20,
      "metadata": {
        "colab": {
          "base_uri": "https://localhost:8080/",
          "height": 423
        },
        "id": "lmfm7lmSizWZ",
        "outputId": "032e1b74-c2f7-4ff6-b9f8-3ccc443d7955"
      },
      "outputs": [],
      "source": [
        "import numpy as np\n",
        "import pandas as pd\n",
        "import matplotlib.pyplot as plt\n",
        "import seaborn as sns"
      ]
    },
    {
      "cell_type": "code",
      "execution_count": 21,
      "metadata": {},
      "outputs": [
        {
          "data": {
            "text/html": [
              "<div>\n",
              "<style scoped>\n",
              "    .dataframe tbody tr th:only-of-type {\n",
              "        vertical-align: middle;\n",
              "    }\n",
              "\n",
              "    .dataframe tbody tr th {\n",
              "        vertical-align: top;\n",
              "    }\n",
              "\n",
              "    .dataframe thead th {\n",
              "        text-align: right;\n",
              "    }\n",
              "</style>\n",
              "<table border=\"1\" class=\"dataframe\">\n",
              "  <thead>\n",
              "    <tr style=\"text-align: right;\">\n",
              "      <th></th>\n",
              "      <th>Models</th>\n",
              "      <th>Accuracy</th>\n",
              "      <th>F1 Score</th>\n",
              "      <th>Precision</th>\n",
              "      <th>Recall</th>\n",
              "      <th>AUC-ROC</th>\n",
              "      <th>Log Loss</th>\n",
              "      <th>Perplexity</th>\n",
              "    </tr>\n",
              "  </thead>\n",
              "  <tbody>\n",
              "    <tr>\n",
              "      <th>0</th>\n",
              "      <td>BERT</td>\n",
              "      <td>0.92</td>\n",
              "      <td>0.91</td>\n",
              "      <td>0.90</td>\n",
              "      <td>0.93</td>\n",
              "      <td>0.95</td>\n",
              "      <td>0.25</td>\n",
              "      <td>12</td>\n",
              "    </tr>\n",
              "    <tr>\n",
              "      <th>1</th>\n",
              "      <td>XLNet</td>\n",
              "      <td>0.89</td>\n",
              "      <td>0.88</td>\n",
              "      <td>0.87</td>\n",
              "      <td>0.90</td>\n",
              "      <td>0.92</td>\n",
              "      <td>0.30</td>\n",
              "      <td>14</td>\n",
              "    </tr>\n",
              "    <tr>\n",
              "      <th>2</th>\n",
              "      <td>RoBERTa</td>\n",
              "      <td>0.91</td>\n",
              "      <td>0.90</td>\n",
              "      <td>0.89</td>\n",
              "      <td>0.92</td>\n",
              "      <td>0.94</td>\n",
              "      <td>0.28</td>\n",
              "      <td>13</td>\n",
              "    </tr>\n",
              "    <tr>\n",
              "      <th>3</th>\n",
              "      <td>ALBERT</td>\n",
              "      <td>0.88</td>\n",
              "      <td>0.86</td>\n",
              "      <td>0.85</td>\n",
              "      <td>0.89</td>\n",
              "      <td>0.91</td>\n",
              "      <td>0.32</td>\n",
              "      <td>16</td>\n",
              "    </tr>\n",
              "    <tr>\n",
              "      <th>4</th>\n",
              "      <td>DistilBERT</td>\n",
              "      <td>0.87</td>\n",
              "      <td>0.85</td>\n",
              "      <td>0.84</td>\n",
              "      <td>0.88</td>\n",
              "      <td>0.90</td>\n",
              "      <td>0.35</td>\n",
              "      <td>17</td>\n",
              "    </tr>\n",
              "  </tbody>\n",
              "</table>\n",
              "</div>"
            ],
            "text/plain": [
              "       Models  Accuracy  F1 Score  Precision  Recall  AUC-ROC  Log Loss  \\\n",
              "0        BERT      0.92      0.91       0.90    0.93     0.95      0.25   \n",
              "1       XLNet      0.89      0.88       0.87    0.90     0.92      0.30   \n",
              "2     RoBERTa      0.91      0.90       0.89    0.92     0.94      0.28   \n",
              "3      ALBERT      0.88      0.86       0.85    0.89     0.91      0.32   \n",
              "4  DistilBERT      0.87      0.85       0.84    0.88     0.90      0.35   \n",
              "\n",
              "   Perplexity  \n",
              "0          12  \n",
              "1          14  \n",
              "2          13  \n",
              "3          16  \n",
              "4          17  "
            ]
          },
          "execution_count": 21,
          "metadata": {},
          "output_type": "execute_result"
        }
      ],
      "source": [
        "df = pd.read_csv(\"Data.csv\")\n",
        "df"
      ]
    },
    {
      "cell_type": "code",
      "execution_count": 22,
      "metadata": {},
      "outputs": [],
      "source": [
        "criteria = {'Accuracy': '+', 'F1 Score': '+', 'Precision': '+', 'Recall': '+', 'AUC-ROC': '+', 'Log Loss':'-', 'Perplexity': '-'}\n",
        "\n",
        "# Assign weights (higher weight for Accuracy & F1 Score)\n",
        "weights = {'Accuracy': 0.25, 'F1 Score': 0.25, 'Precision': 0.1, 'Recall': 0.1, 'AUC-ROC': 0.1, 'Log Loss':0.1, 'Perplexity': 0.1}\n",
        "\n"
      ]
    },
    {
      "cell_type": "code",
      "execution_count": 23,
      "metadata": {},
      "outputs": [],
      "source": [
        "# Normalize the data with weights\n",
        "normalized_df = df.copy()\n",
        "for col in criteria:\n",
        "    if criteria[col] == '+':\n",
        "        normalized_df[col] = (df[col] / np.sqrt((df[col]**2).sum())) * weights[col]\n",
        "    else:\n",
        "        normalized_df[col] = (1 - (df[col] / np.sqrt((df[col]**2).sum()))) * weights[col]"
      ]
    },
    {
      "cell_type": "code",
      "execution_count": 24,
      "metadata": {},
      "outputs": [],
      "source": [
        "ideal_best = normalized_df.iloc[:, 1:].max().values\n",
        "ideal_worst = normalized_df.iloc[:, 1:].min().values\n",
        "\n",
        "distance_best = np.sqrt(((normalized_df.iloc[:, 1:].values - ideal_best) ** 2).sum(axis=1))\n",
        "distance_worst = np.sqrt(((normalized_df.iloc[:, 1:].values - ideal_worst) ** 2).sum(axis=1))"
      ]
    },
    {
      "cell_type": "code",
      "execution_count": 25,
      "metadata": {},
      "outputs": [],
      "source": [
        "topsis_score = distance_worst / (distance_best + distance_worst)\n",
        "\n",
        "df['TOPSIS Score'] = topsis_score\n",
        "df['Rank'] = df['TOPSIS Score'].rank(ascending=False)\n",
        "\n",
        "df.to_csv(\"topsis_results.csv\", index=False)"
      ]
    },
    {
      "cell_type": "code",
      "execution_count": 26,
      "metadata": {},
      "outputs": [
        {
          "data": {
            "image/png": "[encoded data removed]",
            "text/plain": [
              "<Figure size 640x480 with 1 Axes>"
            ]
          },
          "metadata": {},
          "output_type": "display_data"
        },
        {
          "name": "stdout",
          "output_type": "stream",
          "text": [
            "TOPSIS ranking completed and results saved.\n"
          ]
        }
      ],
      "source": [
        "sns.barplot(x=df['TOPSIS Score'], y=df['Models'], order=df.sort_values('TOPSIS Score', ascending=False)['Models'])\n",
        "plt.xlabel(\"TOPSIS Score\")\n",
        "plt.ylabel(\"Pre-trained Model\")\n",
        "plt.title(\"TOPSIS Ranking of Pre-trained Models for Text Classification\")\n",
        "plt.savefig(\"topsis_ranking.png\")\n",
        "plt.show()\n",
        "\n",
        "print(\"TOPSIS ranking completed and results saved.\")"
      ]
    },
    {
      "cell_type": "code",
      "execution_count": null,
      "metadata": {},
      "outputs": [],
      "source": []
    }
  ],
  "metadata": {
    "colab": {
      "provenance": []
    },
    "kernelspec": {
      "display_name": "Python 3",
      "name": "python3"
    },
    "language_info": {
      "codemirror_mode": {
        "name": "ipython",
        "version": 3
      },
      "file_extension": ".py",
      "mimetype": "text/x-python",
      "name": "python",
      "nbconvert_exporter": "python",
      "pygments_lexer": "ipython3",
      "version": "3.10.9"
    }
  },
  "nbformat": 4,
  "nbformat_minor": 0
}
